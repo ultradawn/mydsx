{
    "cells": [
        {
            "cell_type": "markdown", 
            "source": "<table style=\"border: none\" align=\"left\">\n   <tr style=\"border: none\">\n      <th style=\"border: none\"><font face=\"verdana\" size=\"5\" color=\"black\"><b>Predict outdoor equipment purchase with IBM Watson Machine Learning</b></th>\n      <th style=\"border: none\"><img src=\"https://github.com/pmservice/customer-satisfaction-prediction/blob/master/app/static/images/ml_icon_gray.png?raw=true\" alt=\"Watson Machine Learning icon\" height=\"40\" width=\"40\"></th>\n   </tr>\n   <tr style=\"border: none\">\n       <th style=\"border: none\"><img src=\"https://github.com/pmservice/wml-sample-models/blob/master/spark/product-line-prediction/images/products_graphics.png?raw=true\" alt=\"Icon\"> </th>\n   </tr>\n</table>", 
            "metadata": {}
        }, 
        {
            "cell_type": "markdown", 
            "source": "This notebook contains steps and code to get data from the IBM Data Science Experience Community, create a predictive model, and start scoring new data. This notebook introduces commands for getting data and for basic data cleaning and exploration, pipeline creation, model training, model persistance to Watson Machine Learning repository, model deployment, and scoring.\n\nSome familiarity with Python is helpful. This notebook uses Python 2.0 and Apache\u00ae Spark 2.0.\n\nYou will use a publicly available data set, **GoSales Transactions for Naive Bayes Model**, which details anonymous outdoor equipment purchases. Use the details of this data set to predict clients' interests in terms of product line, such as golf accessories, camping equipment, and others.\n\n**Note**: In this notebook we use GOSales data available on [Data Science Experience Community](https://apsportal.ibm.com/exchange-api/v1/entries/8044492073eb964f46597b4be06ff5ea/data?accessKey=9561295fa407698694b1e254d0099600).\n\n## Learning goals\n\nThe learning goals of this notebook are:\n\n-  Load a CSV file into an Apache\u00ae Spark DataFrame.\n-  Explore data.\n-  Prepare data for training and evaluation.\n-  Create an Apache\u00ae Spark machine learning pipeline.\n-  Train and evaluate a model.\n-  Persist a pipeline and model in Watson Machine Learning repository.\n-  Deploy a model for online scoring using Wastson Machine Learning API.\n-  Score sample scoring data using the Watson Machine Learning API.\n-  Explore and visualize prediction result using the plotly package.\n\n\n## Contents\n\nThis notebook contains the following parts:\n\n1.\t[Setup](#setup)\n2.\t[Load and explore data](#load)\n3.\t[Create spark ml model](#model)\n4.\t[Persist model](#persistence)\n5.\t[Predict locally and visualize](#visualization)\n6.\t[Deploy and score in a Cloud](#scoring)\n7.\t[Summary and next steps](#summary)", 
            "metadata": {}
        }, 
        {
            "cell_type": "markdown", 
            "source": "<a id=\"setup\"></a>\n## 1. Setup\n\nBefore you use the sample code in this notebook, you must perform the following setup tasks:\n\n-  Create a [Watson Machine Learning Service](https://console.ng.bluemix.net/catalog/services/ibm-watson-machine-learning/) instance (a free plan is offered). \n-  Upload **GoSales Transactions** data as a data asset in IBM Data Science Experience.\n-  Make sure that you are using a Spark 2.0 kernel.", 
            "metadata": {}
        }, 
        {
            "cell_type": "markdown", 
            "source": "<a id=\"load\"></a>\n## 2. Load and explore data", 
            "metadata": {}
        }, 
        {
            "cell_type": "markdown", 
            "source": "In this section you will load the data as an Apache\u00ae Spark DataFrame and perform a basic exploration.\n\nLoad the data to the Spark DataFrame by using *wget* to upload the data to gpfs and then *read* method. ", 
            "metadata": {}
        }, 
        {
            "cell_type": "markdown", 
            "source": "**Example**: First, you need to install required packages. You can do it by running the following code. Run it only one time.<BR><BR>\n!pip install wget --user <BR>", 
            "metadata": {}
        }, 
        {
            "cell_type": "code", 
            "source": "import wget\n\nlink_to_data = 'https://apsportal.ibm.com/exchange-api/v1/entries/8044492073eb964f46597b4be06ff5ea/data?accessKey=9561295fa407698694b1e254d0099600'\nfilename = wget.download(link_to_data)\n\nprint filename", 
            "metadata": {}, 
            "outputs": [
                {
                    "output_type": "stream", 
                    "text": "GoSales_Tx_NaiveBayes.csv\n", 
                    "name": "stdout"
                }
            ], 
            "execution_count": 3
        }, 
        {
            "cell_type": "markdown", 
            "source": "The csv file GoSales_Tx_NaiveBayes.csv is availble on gpfs now. Load the file to Apache\u00ae Spark DataFrame using code below.", 
            "metadata": {}
        }, 
        {
            "cell_type": "code", 
            "source": "spark = SparkSession.builder.getOrCreate()\n\ndf_data = spark.read\\\n  .format('org.apache.spark.sql.execution.datasources.csv.CSVFileFormat')\\\n  .option('header', 'true')\\\n  .option('inferSchema', 'true')\\\n  .load(filename)", 
            "metadata": {
                "collapsed": true
            }, 
            "outputs": [], 
            "execution_count": 4
        }, 
        {
            "cell_type": "markdown", 
            "source": "Explore the loaded data by using the following Apache\u00ae Spark DataFrame methods:\n-  print schema\n-  print top ten records\n-  count all records", 
            "metadata": {}
        }, 
        {
            "cell_type": "code", 
            "source": "df_data.printSchema()", 
            "metadata": {}, 
            "outputs": [
                {
                    "output_type": "stream", 
                    "text": "root\n |-- PRODUCT_LINE: string (nullable = true)\n |-- GENDER: string (nullable = true)\n |-- AGE: integer (nullable = true)\n |-- MARITAL_STATUS: string (nullable = true)\n |-- PROFESSION: string (nullable = true)\n\n", 
                    "name": "stdout"
                }
            ], 
            "execution_count": 5
        }, 
        {
            "cell_type": "markdown", 
            "source": "As you can see, the data contains five fields. PRODUCT_LINE field is the one we would like to predict (label).", 
            "metadata": {}
        }, 
        {
            "cell_type": "code", 
            "source": "df_data.show()", 
            "metadata": {}, 
            "outputs": [
                {
                    "output_type": "stream", 
                    "text": "+--------------------+------+---+--------------+------------+\n|        PRODUCT_LINE|GENDER|AGE|MARITAL_STATUS|  PROFESSION|\n+--------------------+------+---+--------------+------------+\n|Personal Accessories|     M| 27|        Single|Professional|\n|Personal Accessories|     F| 39|       Married|       Other|\n|Mountaineering Eq...|     F| 39|       Married|       Other|\n|Personal Accessories|     F| 56|   Unspecified| Hospitality|\n|      Golf Equipment|     M| 45|       Married|     Retired|\n|      Golf Equipment|     M| 45|       Married|     Retired|\n|   Camping Equipment|     F| 39|       Married|       Other|\n|   Camping Equipment|     F| 49|       Married|       Other|\n|  Outdoor Protection|     F| 49|       Married|       Other|\n|      Golf Equipment|     M| 47|       Married|     Retired|\n|      Golf Equipment|     M| 47|       Married|     Retired|\n|Mountaineering Eq...|     M| 21|        Single|      Retail|\n|Personal Accessories|     F| 66|       Married|       Other|\n|   Camping Equipment|     F| 35|       Married|Professional|\n|Mountaineering Eq...|     M| 20|        Single|       Sales|\n|Mountaineering Eq...|     M| 20|        Single|       Sales|\n|Mountaineering Eq...|     M| 20|        Single|       Sales|\n|Personal Accessories|     F| 37|        Single|       Other|\n|   Camping Equipment|     M| 42|       Married|       Other|\n|   Camping Equipment|     F| 24|       Married|      Retail|\n+--------------------+------+---+--------------+------------+\nonly showing top 20 rows\n\n", 
                    "name": "stdout"
                }
            ], 
            "execution_count": 4
        }, 
        {
            "cell_type": "code", 
            "source": "print \"Number of records: \" + str(df_data.count())", 
            "metadata": {}, 
            "outputs": [
                {
                    "output_type": "stream", 
                    "text": "Number of records: 60252\n", 
                    "name": "stdout"
                }
            ], 
            "execution_count": 5
        }, 
        {
            "cell_type": "markdown", 
            "source": "As you can see, the data set contains 60252 records.", 
            "metadata": {}
        }, 
        {
            "cell_type": "markdown", 
            "source": "<a id=\"model\"></a>\n## 3. Create an Apache\u00ae Spark machine learning model\n\nIn this section you will learn how to prepare data, create an Apache\u00ae Spark machine learning pipeline, and train a model.", 
            "metadata": {}
        }, 
        {
            "cell_type": "markdown", 
            "source": "### 3.1: Prepare data\n\nIn this subsection you will split your data into: train, test and predict datasets.", 
            "metadata": {}
        }, 
        {
            "cell_type": "code", 
            "source": "splitted_data = df_data.randomSplit([0.8, 0.18, 0.02], 24)\ntrain_data = splitted_data[0]\ntest_data = splitted_data[1]\npredict_data = splitted_data[2]\n\nprint \"Number of training records: \" + str(train_data.count())\nprint \"Number of testing records : \" + str(test_data.count())\nprint \"Number of prediction records : \" + str(predict_data.count())", 
            "metadata": {}, 
            "outputs": [
                {
                    "output_type": "stream", 
                    "text": "Number of training records: 48176\nNumber of testing records : 10860\nNumber of prediction records : 1216\n", 
                    "name": "stdout"
                }
            ], 
            "execution_count": 6
        }, 
        {
            "cell_type": "markdown", 
            "source": "As you can see our data has been successfully split into three datasets: \n\n-  The train data set, which is the largest group, is used for training.\n-  The test data set will be used for model evaluation and is used to test the assumptions of the model.\n-  The predict data set will be used for prediction.", 
            "metadata": {}
        }, 
        {
            "cell_type": "markdown", 
            "source": "### 3.2: Create pipeline and train a model", 
            "metadata": {}
        }, 
        {
            "cell_type": "markdown", 
            "source": "In this section you will create an Apache\u00ae Spark machine learning pipeline and then train the model.", 
            "metadata": {}
        }, 
        {
            "cell_type": "markdown", 
            "source": "In the first step you need to import the Apache\u00ae Spark machine learning packages that will be needed in the subsequent steps.", 
            "metadata": {}
        }, 
        {
            "cell_type": "code", 
            "source": "from pyspark.ml.feature import OneHotEncoder, StringIndexer, IndexToString, VectorAssembler\nfrom pyspark.ml.classification import RandomForestClassifier\nfrom pyspark.ml.evaluation import MulticlassClassificationEvaluator\nfrom pyspark.ml import Pipeline, Model", 
            "metadata": {
                "collapsed": true
            }, 
            "outputs": [], 
            "execution_count": 7
        }, 
        {
            "cell_type": "markdown", 
            "source": "In the following step, convert all the string fields to numeric ones by using the StringIndexer transformer.", 
            "metadata": {}
        }, 
        {
            "cell_type": "code", 
            "source": "stringIndexer_label = StringIndexer(inputCol=\"PRODUCT_LINE\", outputCol=\"label\").fit(df_data)\nstringIndexer_prof = StringIndexer(inputCol=\"PROFESSION\", outputCol=\"PROFESSION_IX\")\nstringIndexer_gend = StringIndexer(inputCol=\"GENDER\", outputCol=\"GENDER_IX\")\nstringIndexer_mar = StringIndexer(inputCol=\"MARITAL_STATUS\", outputCol=\"MARITAL_STATUS_IX\")", 
            "metadata": {
                "collapsed": true
            }, 
            "outputs": [], 
            "execution_count": 8
        }, 
        {
            "cell_type": "markdown", 
            "source": "In the following step, create a feature vector by combining all features together.", 
            "metadata": {}
        }, 
        {
            "cell_type": "code", 
            "source": "vectorAssembler_features = VectorAssembler(inputCols=[\"GENDER_IX\", \"AGE\", \"MARITAL_STATUS_IX\", \"PROFESSION_IX\"], outputCol=\"features\")", 
            "metadata": {
                "collapsed": true
            }, 
            "outputs": [], 
            "execution_count": 9
        }, 
        {
            "cell_type": "markdown", 
            "source": "Next, define estimators you want to use for classification. Random Forest is used in the following example.", 
            "metadata": {}
        }, 
        {
            "cell_type": "code", 
            "source": "rf = RandomForestClassifier(labelCol=\"label\", featuresCol=\"features\")", 
            "metadata": {
                "collapsed": true
            }, 
            "outputs": [], 
            "execution_count": 10
        }, 
        {
            "cell_type": "markdown", 
            "source": "Finally, indexed labels back to original labels.", 
            "metadata": {}
        }, 
        {
            "cell_type": "code", 
            "source": "labelConverter = IndexToString(inputCol=\"prediction\", outputCol=\"predictedLabel\", labels=stringIndexer_label.labels)", 
            "metadata": {
                "collapsed": true
            }, 
            "outputs": [], 
            "execution_count": 11
        }, 
        {
            "cell_type": "markdown", 
            "source": "Let's build the pipeline now. A pipeline consists of transformers and an estimator.", 
            "metadata": {}
        }, 
        {
            "cell_type": "code", 
            "source": "pipeline_rf = Pipeline(stages=[stringIndexer_label, stringIndexer_prof, stringIndexer_gend, stringIndexer_mar, vectorAssembler_features, rf, labelConverter])", 
            "metadata": {
                "collapsed": true
            }, 
            "outputs": [], 
            "execution_count": 12
        }, 
        {
            "cell_type": "markdown", 
            "source": "Now, you can train your Random Forest model by using the previously defined **pipeline** and **train data**.", 
            "metadata": {}
        }, 
        {
            "cell_type": "code", 
            "source": "train_data.printSchema()", 
            "metadata": {}, 
            "outputs": [
                {
                    "output_type": "stream", 
                    "text": "root\n |-- PRODUCT_LINE: string (nullable = true)\n |-- GENDER: string (nullable = true)\n |-- AGE: integer (nullable = true)\n |-- MARITAL_STATUS: string (nullable = true)\n |-- PROFESSION: string (nullable = true)\n\n", 
                    "name": "stdout"
                }
            ], 
            "execution_count": 13
        }, 
        {
            "cell_type": "code", 
            "source": "model_rf = pipeline_rf.fit(train_data)", 
            "metadata": {
                "collapsed": true
            }, 
            "outputs": [], 
            "execution_count": 14
        }, 
        {
            "cell_type": "markdown", 
            "source": "You can check your **model accuracy** now. To evaluate the model, use **test data**.", 
            "metadata": {}
        }, 
        {
            "cell_type": "code", 
            "source": "predictions = model_rf.transform(test_data)\nevaluatorRF = MulticlassClassificationEvaluator(labelCol=\"label\", predictionCol=\"prediction\", metricName=\"accuracy\")\naccuracy = evaluatorRF.evaluate(predictions)\n\nprint(\"Accuracy = %g\" % accuracy)\nprint(\"Test Error = %g\" % (1.0 - accuracy))", 
            "metadata": {}, 
            "outputs": [
                {
                    "output_type": "stream", 
                    "text": "Accuracy = 0.589319\nTest Error = 0.410681\n", 
                    "name": "stdout"
                }
            ], 
            "execution_count": 15
        }, 
        {
            "cell_type": "markdown", 
            "source": "You can tune your model now to achieve better accuracy. For simplicity of this example tuning section is omitted.", 
            "metadata": {
                "collapsed": true
            }
        }, 
        {
            "cell_type": "markdown", 
            "source": "<a id=\"persistence\"></a>\n## 4. Persist model", 
            "metadata": {
                "collapsed": true
            }
        }, 
        {
            "cell_type": "markdown", 
            "source": "In this section you will learn how to store your pipeline and model in Watson Machine Learning repository by using python client libraries.", 
            "metadata": {}
        }, 
        {
            "cell_type": "markdown", 
            "source": "First, you must import client libraries.\n\n**Note**: Apache\u00ae Spark 2.0 or higher is required.", 
            "metadata": {
                "collapsed": true
            }
        }, 
        {
            "cell_type": "code", 
            "source": "from repository.mlrepositoryclient import MLRepositoryClient\nfrom repository.mlrepositoryartifact import MLRepositoryArtifact", 
            "metadata": {
                "collapsed": true
            }, 
            "outputs": [], 
            "execution_count": 16
        }, 
        {
            "cell_type": "markdown", 
            "source": "Authenticate to Watson Machine Learning service on Bluemix.", 
            "metadata": {
                "collapsed": true
            }
        }, 
        {
            "cell_type": "markdown", 
            "source": "**Action**: Put authentication information from your instance of Watson Machine Learning service here.</div>", 
            "metadata": {}
        }, 
        {
            "cell_type": "code", 
            "source": "wml_credentials={\n  \"url\": \"https://ibm-watson-ml.mybluemix.net\",\n  \"access_key\": \"***\",\n  \"username\": \"***\",\n  \"password\": \"***\",\n  \"instance_id\": \"***\"\n}", 
            "metadata": {
                "collapsed": true
            }, 
            "outputs": [], 
            "execution_count": 34
        }, 
        {
            "cell_type": "markdown", 
            "source": "**Tip**: `wml_service_path`, user and `wml_password` can be found on **Service Credentials** tab of service instance created in Bluemix. If you cannot see **instance_id** field in **Serice Credentials** generate new credentials by pressing **New credential (+)** button. ", 
            "metadata": {
                "collapsed": true
            }
        }, 
        {
            "cell_type": "code", 
            "source": "ml_repository_client = MLRepositoryClient(wml_credentials['url'])\nml_repository_client.authorize(wml_credentials['username'], wml_credentials['password'])", 
            "metadata": {
                "collapsed": true
            }, 
            "outputs": [], 
            "execution_count": 18
        }, 
        {
            "cell_type": "markdown", 
            "source": "Create model artifact (abstraction layer).", 
            "metadata": {}
        }, 
        {
            "cell_type": "code", 
            "source": "model_artifact = MLRepositoryArtifact(model_rf, training_data=train_data, name=\"Product Line Prediction\")", 
            "metadata": {
                "collapsed": true
            }, 
            "outputs": [], 
            "execution_count": 19
        }, 
        {
            "cell_type": "markdown", 
            "source": "**Tip**: The MLRepositoryArtifact method expects a trained model object, training data, and a model name. (It is this model name that is displayed by the Watson Machine Learning service).", 
            "metadata": {}
        }, 
        {
            "cell_type": "markdown", 
            "source": "### 4.1: Save pipeline and model", 
            "metadata": {}
        }, 
        {
            "cell_type": "markdown", 
            "source": "In this subsection you will learn how to save pipeline and model artifacts to your Watson Machine Learning instance.", 
            "metadata": {}
        }, 
        {
            "cell_type": "code", 
            "source": "saved_model = ml_repository_client.models.save(model_artifact)", 
            "metadata": {
                "collapsed": true
            }, 
            "outputs": [], 
            "execution_count": 20
        }, 
        {
            "cell_type": "markdown", 
            "source": "Get saved model metadata from Watson Machine Learning.", 
            "metadata": {}
        }, 
        {
            "cell_type": "markdown", 
            "source": "**Tip**: Use *meta.available_props()* to get the list of available props.", 
            "metadata": {}
        }, 
        {
            "cell_type": "code", 
            "source": "saved_model.meta.available_props()", 
            "metadata": {}, 
            "outputs": [
                {
                    "execution_count": 21, 
                    "metadata": {}, 
                    "output_type": "execute_result", 
                    "data": {
                        "text/plain": "['inputDataSchema',\n 'evaluationMetrics',\n 'pipelineVersionHref',\n 'modelVersionHref',\n 'trainingDataRef',\n 'pipelineType',\n 'creationTime',\n 'lastUpdated',\n 'label',\n 'authorEmail',\n 'trainingDataSchema',\n 'authorName',\n 'version',\n 'modelType',\n 'runtime',\n 'evaluationMethod']"
                    }
                }
            ], 
            "execution_count": 21
        }, 
        {
            "cell_type": "code", 
            "source": "print \"modelType: \" + saved_model.meta.prop(\"modelType\")\nprint \"trainingDataSchema: \" + str(saved_model.meta.prop(\"trainingDataSchema\"))\nprint \"creationTime: \" + str(saved_model.meta.prop(\"creationTime\"))\nprint \"modelVersionHref: \" + saved_model.meta.prop(\"modelVersionHref\")\nprint \"label: \" + saved_model.meta.prop(\"label\")", 
            "metadata": {}, 
            "outputs": [
                {
                    "output_type": "stream", 
                    "text": "modelType: sparkml-model-2.0\ntrainingDataSchema: {u'fields': [{u'nullable': True, u'type': u'string', u'name': u'PRODUCT_LINE', u'metadata': {}}, {u'nullable': True, u'type': u'string', u'name': u'GENDER', u'metadata': {}}, {u'nullable': True, u'type': u'integer', u'name': u'AGE', u'metadata': {}}, {u'nullable': True, u'type': u'string', u'name': u'MARITAL_STATUS', u'metadata': {}}, {u'nullable': True, u'type': u'string', u'name': u'PROFESSION', u'metadata': {}}], u'type': u'struct'}\ncreationTime: 2017-09-06 13:28:28.585000+00:00\nmodelVersionHref: https://ibm-watson-ml.mybluemix.net/v2/artifacts/models/99087b39-36ca-431d-9008-42a236adb432/versions/2723400a-6a3a-4603-80f5-4035134b3fdf\nlabel: PRODUCT_LINE\n", 
                    "name": "stdout"
                }
            ], 
            "execution_count": 21
        }, 
        {
            "cell_type": "markdown", 
            "source": "**Tip**: **modelVersionHref** is our model unique indentifier in the Watson Machine Learning repository.", 
            "metadata": {}
        }, 
        {
            "cell_type": "markdown", 
            "source": "### 4.2: Load model", 
            "metadata": {}
        }, 
        {
            "cell_type": "markdown", 
            "source": "In this subsection you will learn how to load back saved model from specified instance of Watson Machine Learning.", 
            "metadata": {}
        }, 
        {
            "cell_type": "code", 
            "source": "loadedModelArtifact = ml_repository_client.models.get(saved_model.uid)", 
            "metadata": {
                "collapsed": true
            }, 
            "outputs": [], 
            "execution_count": 23
        }, 
        {
            "cell_type": "markdown", 
            "source": "You can print for example model name to make sure that model has been loaded correctly.", 
            "metadata": {}
        }, 
        {
            "cell_type": "code", 
            "source": "print str(loadedModelArtifact.name)", 
            "metadata": {}, 
            "outputs": [
                {
                    "output_type": "stream", 
                    "text": "Product Line Prediction\n", 
                    "name": "stdout"
                }
            ], 
            "execution_count": 24
        }, 
        {
            "cell_type": "markdown", 
            "source": "As you can see the name is correct. You have already learned how save and load the model from Watson Machine Learning repository.", 
            "metadata": {}
        }, 
        {
            "cell_type": "markdown", 
            "source": "<a id=\"visualization\"></a>\n## 5. Predict locally and visualize", 
            "metadata": {}
        }, 
        {
            "cell_type": "markdown", 
            "source": "In this section you will learn how to score test data using loaded model and visualize the prediction results with plotly package.", 
            "metadata": {}
        }, 
        {
            "cell_type": "markdown", 
            "source": "### 5.1: Make local prediction using previously loaded model and test data", 
            "metadata": {}
        }, 
        {
            "cell_type": "markdown", 
            "source": "In this subsection you will score *predict_data* data set.", 
            "metadata": {}
        }, 
        {
            "cell_type": "code", 
            "source": "predictions = loadedModelArtifact.model_instance().transform(predict_data)", 
            "metadata": {
                "collapsed": true
            }, 
            "outputs": [], 
            "execution_count": 25
        }, 
        {
            "cell_type": "markdown", 
            "source": "Preview the results by calling the *show()* method on the predictions DataFrame.", 
            "metadata": {}
        }, 
        {
            "cell_type": "code", 
            "source": "predictions.show(5)", 
            "metadata": {}, 
            "outputs": [
                {
                    "output_type": "stream", 
                    "text": "+-----------------+------+---+--------------+----------+-----+-------------+---------+-----------------+------------------+--------------------+--------------------+----------+--------------------+\n|     PRODUCT_LINE|GENDER|AGE|MARITAL_STATUS|PROFESSION|label|PROFESSION_IX|GENDER_IX|MARITAL_STATUS_IX|          features|       rawPrediction|         probability|prediction|      predictedLabel|\n+-----------------+------+---+--------------+----------+-----+-------------+---------+-----------------+------------------+--------------------+--------------------+----------+--------------------+\n|Camping Equipment|     F| 20|        Single|     Other|  0.0|          0.0|      1.0|              1.0|[1.0,20.0,1.0,0.0]|[5.54119162527029...|[0.27705958126351...|       1.0|Personal Accessories|\n|Camping Equipment|     F| 20|        Single|     Other|  0.0|          0.0|      1.0|              1.0|[1.0,20.0,1.0,0.0]|[5.54119162527029...|[0.27705958126351...|       1.0|Personal Accessories|\n|Camping Equipment|     F| 20|        Single|     Other|  0.0|          0.0|      1.0|              1.0|[1.0,20.0,1.0,0.0]|[5.54119162527029...|[0.27705958126351...|       1.0|Personal Accessories|\n|Camping Equipment|     F| 20|        Single|     Other|  0.0|          0.0|      1.0|              1.0|[1.0,20.0,1.0,0.0]|[5.54119162527029...|[0.27705958126351...|       1.0|Personal Accessories|\n|Camping Equipment|     F| 21|       Married|     Other|  0.0|          0.0|      1.0|              0.0|[1.0,21.0,0.0,0.0]|[8.54473640086929...|[0.42723682004346...|       0.0|   Camping Equipment|\n+-----------------+------+---+--------------+----------+-----+-------------+---------+-----------------+------------------+--------------------+--------------------+----------+--------------------+\nonly showing top 5 rows\n\n", 
                    "name": "stdout"
                }
            ], 
            "execution_count": 26
        }, 
        {
            "cell_type": "markdown", 
            "source": "By tabulating a count, you can see which product line is the most popular.", 
            "metadata": {}
        }, 
        {
            "cell_type": "code", 
            "source": "predictions.select(\"predictedLabel\").groupBy(\"predictedLabel\").count().show(truncate=False)", 
            "metadata": {}, 
            "outputs": [
                {
                    "output_type": "stream", 
                    "text": "+------------------------+-----+\n|predictedLabel          |count|\n+------------------------+-----+\n|Camping Equipment       |717  |\n|Golf Equipment          |61   |\n|Mountaineering Equipment|75   |\n|Personal Accessories    |363  |\n+------------------------+-----+\n\n", 
                    "name": "stdout"
                }
            ], 
            "execution_count": 27
        }, 
        {
            "cell_type": "markdown", 
            "source": "### 5.2: Sample visualization of data with Plotly package", 
            "metadata": {}
        }, 
        {
            "cell_type": "markdown", 
            "source": "In this subsection you will explore prediction results with Plotly, which is an online analytics and data visualization tool.", 
            "metadata": {}
        }, 
        {
            "cell_type": "markdown", 
            "source": "**Example**: First, you need to install required packages. You can do it by running the following code. Run it only one time.<BR><BR>\n!pip install plotly --user <BR>\n!pip install cufflinks==0.8.2 --user", 
            "metadata": {}
        }, 
        {
            "cell_type": "markdown", 
            "source": "Import Plotly and other required packages.", 
            "metadata": {}
        }, 
        {
            "cell_type": "code", 
            "source": "import sys\nimport pandas\nimport plotly.plotly as py\nfrom plotly.offline import download_plotlyjs, init_notebook_mode, plot, iplot\nimport cufflinks as cf\nimport plotly.graph_objs as go\n\ninit_notebook_mode(connected=True)\nsys.path.append(\"\".join([os.environ[\"HOME\"]])) ", 
            "metadata": {}, 
            "outputs": [
                {
                    "output_type": "display_data", 
                    "metadata": {}, 
                    "data": {
                        "text/html": "<script>requirejs.config({paths: { 'plotly': ['https://cdn.plot.ly/plotly-latest.min']},});if(!window.Plotly) {{require(['plotly'],function(plotly) {window.Plotly=plotly;});}}</script>", 
                        "text/vnd.plotly.v1+html": "<script>requirejs.config({paths: { 'plotly': ['https://cdn.plot.ly/plotly-latest.min']},});if(!window.Plotly) {{require(['plotly'],function(plotly) {window.Plotly=plotly;});}}</script>"
                    }
                }
            ], 
            "execution_count": 28
        }, 
        {
            "cell_type": "markdown", 
            "source": "Convert the Apache Spark DataFrame to a Pandas DataFrame.", 
            "metadata": {}
        }, 
        {
            "cell_type": "code", 
            "source": "predictions_pdf = predictions.select(\"prediction\", \"predictedLabel\", \"GENDER\", \"AGE\", \"PROFESSION\", \"MARITAL_STATUS\").toPandas()", 
            "metadata": {
                "collapsed": true
            }, 
            "outputs": [], 
            "execution_count": 29
        }, 
        {
            "cell_type": "markdown", 
            "source": "Plot a pie chart that shows the predicted product-line interest.", 
            "metadata": {}
        }, 
        {
            "cell_type": "code", 
            "source": "cumulative_stats = predictions_pdf.groupby(['predictedLabel']).count()\nproduct_data = [go.Pie(labels=cumulative_stats.index, values=cumulative_stats['GENDER'])]\nproduct_layout = go.Layout(title='Predicted product line client interest distribution')\n\nfig = go.Figure(data=product_data, layout=product_layout)\niplot(fig)", 
            "metadata": {}, 
            "outputs": [
                {
                    "output_type": "display_data", 
                    "metadata": {}, 
                    "data": {
                        "application/vnd.plotly.v1+json": {
                            "data": [
                                {
                                    "labels": [
                                        "Camping Equipment", 
                                        "Golf Equipment", 
                                        "Mountaineering Equipment", 
                                        "Personal Accessories"
                                    ], 
                                    "type": "pie", 
                                    "values": [
                                        717, 
                                        61, 
                                        75, 
                                        363
                                    ]
                                }
                            ], 
                            "layout": {
                                "title": "Predicted product line client interest distribution"
                            }
                        }, 
                        "text/html": "<div id=\"3eaa53a1-4d6e-4392-9c62-e70f4521a820\" style=\"height: 525px; width: 100%;\" class=\"plotly-graph-div\"></div><script type=\"text/javascript\">require([\"plotly\"], function(Plotly) { window.PLOTLYENV=window.PLOTLYENV || {};window.PLOTLYENV.BASE_URL=\"https://plot.ly\";Plotly.newPlot(\"3eaa53a1-4d6e-4392-9c62-e70f4521a820\", [{\"type\": \"pie\", \"labels\": [\"Camping Equipment\", \"Golf Equipment\", \"Mountaineering Equipment\", \"Personal Accessories\"], \"values\": [717, 61, 75, 363]}], {\"title\": \"Predicted product line client interest distribution\"}, {\"linkText\": \"Export to plot.ly\", \"showLink\": true})});</script>", 
                        "text/vnd.plotly.v1+html": "<div id=\"3eaa53a1-4d6e-4392-9c62-e70f4521a820\" style=\"height: 525px; width: 100%;\" class=\"plotly-graph-div\"></div><script type=\"text/javascript\">require([\"plotly\"], function(Plotly) { window.PLOTLYENV=window.PLOTLYENV || {};window.PLOTLYENV.BASE_URL=\"https://plot.ly\";Plotly.newPlot(\"3eaa53a1-4d6e-4392-9c62-e70f4521a820\", [{\"type\": \"pie\", \"labels\": [\"Camping Equipment\", \"Golf Equipment\", \"Mountaineering Equipment\", \"Personal Accessories\"], \"values\": [717, 61, 75, 363]}], {\"title\": \"Predicted product line client interest distribution\"}, {\"linkText\": \"Export to plot.ly\", \"showLink\": true})});</script>"
                    }
                }
            ], 
            "execution_count": 30
        }, 
        {
            "cell_type": "markdown", 
            "source": "With this data set, you might want to do some analysis of the mean AGE per product line by using a bar chart.", 
            "metadata": {}
        }, 
        {
            "cell_type": "code", 
            "source": "age_data = [go.Bar(y=predictions_pdf.groupby(['predictedLabel']).mean()[\"AGE\"], x=cumulative_stats.index)]\n\nage_layout = go.Layout(\n    title='Mean AGE per predicted product line',\n    xaxis=dict(title = \"Product Line\", showline=False),\n    yaxis=dict(title = \"Mean AGE\"))\n\nfig = go.Figure(data=age_data, layout=age_layout)\niplot(fig)", 
            "metadata": {}, 
            "outputs": [
                {
                    "output_type": "display_data", 
                    "metadata": {}, 
                    "data": {
                        "application/vnd.plotly.v1+json": {
                            "data": [
                                {
                                    "x": [
                                        "Camping Equipment", 
                                        "Golf Equipment", 
                                        "Mountaineering Equipment", 
                                        "Personal Accessories"
                                    ], 
                                    "y": [
                                        32.94002789400279, 
                                        49.83606557377049, 
                                        36.053333333333335, 
                                        32.8099173553719
                                    ], 
                                    "type": "bar"
                                }
                            ], 
                            "layout": {
                                "title": "Mean AGE per predicted product line", 
                                "yaxis": {
                                    "title": "Mean AGE"
                                }, 
                                "xaxis": {
                                    "showline": false, 
                                    "title": "Product Line"
                                }
                            }
                        }, 
                        "text/html": "<div id=\"df21276b-4b98-4c50-b456-fae42d3e45af\" style=\"height: 525px; width: 100%;\" class=\"plotly-graph-div\"></div><script type=\"text/javascript\">require([\"plotly\"], function(Plotly) { window.PLOTLYENV=window.PLOTLYENV || {};window.PLOTLYENV.BASE_URL=\"https://plot.ly\";Plotly.newPlot(\"df21276b-4b98-4c50-b456-fae42d3e45af\", [{\"y\": [32.94002789400279, 49.83606557377049, 36.053333333333335, 32.8099173553719], \"x\": [\"Camping Equipment\", \"Golf Equipment\", \"Mountaineering Equipment\", \"Personal Accessories\"], \"type\": \"bar\"}], {\"title\": \"Mean AGE per predicted product line\", \"xaxis\": {\"showline\": false, \"title\": \"Product Line\"}, \"yaxis\": {\"title\": \"Mean AGE\"}}, {\"linkText\": \"Export to plot.ly\", \"showLink\": true})});</script>", 
                        "text/vnd.plotly.v1+html": "<div id=\"df21276b-4b98-4c50-b456-fae42d3e45af\" style=\"height: 525px; width: 100%;\" class=\"plotly-graph-div\"></div><script type=\"text/javascript\">require([\"plotly\"], function(Plotly) { window.PLOTLYENV=window.PLOTLYENV || {};window.PLOTLYENV.BASE_URL=\"https://plot.ly\";Plotly.newPlot(\"df21276b-4b98-4c50-b456-fae42d3e45af\", [{\"y\": [32.94002789400279, 49.83606557377049, 36.053333333333335, 32.8099173553719], \"x\": [\"Camping Equipment\", \"Golf Equipment\", \"Mountaineering Equipment\", \"Personal Accessories\"], \"type\": \"bar\"}], {\"title\": \"Mean AGE per predicted product line\", \"xaxis\": {\"showline\": false, \"title\": \"Product Line\"}, \"yaxis\": {\"title\": \"Mean AGE\"}}, {\"linkText\": \"Export to plot.ly\", \"showLink\": true})});</script>"
                    }
                }
            ], 
            "execution_count": 31
        }, 
        {
            "cell_type": "markdown", 
            "source": "Based on bar plot you created, you might make the following conclusion: The mean age for clients that are interested in golf equipment is predicted to be over 50 years old.", 
            "metadata": {}
        }, 
        {
            "cell_type": "markdown", 
            "source": "<a id=\"scoring\"></a>\n## 6. Deploy and score in a Cloud", 
            "metadata": {}
        }, 
        {
            "cell_type": "markdown", 
            "source": "In this section you will learn how to create online scoring and to score a new data record by using the Watson Machine Learning REST API. \nFor more information about REST APIs, see the [Swagger Documentation](http://watson-ml-api.mybluemix.net/).", 
            "metadata": {}
        }, 
        {
            "cell_type": "markdown", 
            "source": "To work with the Watson Machine Leraning REST API you must generate an access token. To do that you can use the following sample code:", 
            "metadata": {
                "collapsed": true
            }
        }, 
        {
            "cell_type": "code", 
            "source": "import urllib3, requests, json\n\nheaders = urllib3.util.make_headers(basic_auth='{username}:{password}'.format(username=wml_credentials['username'], password=wml_credentials['password']))\nurl = '{}/v3/identity/token'.format(wml_credentials['url'])\nresponse = requests.get(url, headers=headers)\nmltoken = json.loads(response.text).get('token')", 
            "metadata": {
                "collapsed": true
            }, 
            "outputs": [], 
            "execution_count": 24
        }, 
        {
            "cell_type": "markdown", 
            "source": "### 6.1: Create online scoring endpoint", 
            "metadata": {}
        }, 
        {
            "cell_type": "markdown", 
            "source": "Now you can create an online scoring endpoint. ", 
            "metadata": {}
        }, 
        {
            "cell_type": "markdown", 
            "source": "#### Get published_models url from instance details", 
            "metadata": {}
        }, 
        {
            "cell_type": "code", 
            "source": "endpoint_instance = wml_credentials['url'] + \"/v3/wml_instances/\" + wml_credentials['instance_id']\nheader = {'Content-Type': 'application/json', 'Authorization': 'Bearer ' + mltoken}\n\nresponse_get_instance = requests.get(endpoint_instance, headers=header)\n\nprint response_get_instance\nprint response_get_instance.text", 
            "metadata": {}, 
            "outputs": [
                {
                    "output_type": "stream", 
                    "text": "<Response [200]>\n{\"metadata\":{\"guid\":\"360c510b-012c-4793-ae3f-063410081c3e\",\"url\":\"https://ibm-watson-ml.mybluemix.net/v3/wml_instances/360c510b-012c-4793-ae3f-063410081c3e\",\"created_at\":\"2017-08-04T09:15:48.344Z\",\"modified_at\":\"2017-09-06T13:28:29.140Z\"},\"entity\":{\"source\":\"Bluemix\",\"published_models\":{\"url\":\"https://ibm-watson-ml.mybluemix.net/v3/wml_instances/360c510b-012c-4793-ae3f-063410081c3e/published_models\"},\"usage\":{\"expiration_date\":\"2017-10-01T00:00:00.000Z\",\"computation_time\":{\"current\":18},\"model_count\":{\"limit\":1000,\"current\":6},\"prediction_count\":{\"current\":15},\"deployment_count\":{\"limit\":1000,\"current\":11}},\"plan_id\":\"0f2a3c2c-456b-40f3-9b19-726d2740b11c\",\"status\":\"Active\",\"organization_guid\":\"b0e61605-a82e-4f03-9e9f-2767973c084d\",\"region\":\"us-south\",\"account\":{\"id\":\"f52968f3dbbe7b0b53e15743d45e5e90\",\"name\":\"Umit Cakmak's Account\",\"type\":\"TRIAL\"},\"owner\":{\"ibm_id\":\"31000292EV\",\"email\":\"umit.cakmak@pl.ibm.com\",\"user_id\":\"43e0ee0e-6bfb-48fc-bcd8-d61e40d19253\",\"country_code\":\"POL\",\"beta_user\":true},\"deployments\":{\"url\":\"https://ibm-watson-ml.mybluemix.net/v3/wml_instances/360c510b-012c-4793-ae3f-063410081c3e/deployments\"},\"space_guid\":\"4c55eb1c-d6fe-4f0a-9390-35c9a7ecf27a\",\"plan\":\"standard\"}}\n", 
                    "name": "stdout"
                }
            ], 
            "execution_count": 26
        }, 
        {
            "cell_type": "code", 
            "source": "endpoint_published_models = json.loads(response_get_instance.text).get('entity').get('published_models').get('url')\n\nprint endpoint_published_models", 
            "metadata": {}, 
            "outputs": [
                {
                    "output_type": "stream", 
                    "text": "https://ibm-watson-ml.mybluemix.net/v3/wml_instances/360c510b-012c-4793-ae3f-063410081c3e/published_models\n", 
                    "name": "stdout"
                }
            ], 
            "execution_count": 27
        }, 
        {
            "cell_type": "markdown", 
            "source": "Execute the following sample code that uses the published_models endpoint to get deployments url.", 
            "metadata": {}
        }, 
        {
            "cell_type": "markdown", 
            "source": "#### Get the list of published models", 
            "metadata": {}
        }, 
        {
            "cell_type": "code", 
            "source": "header = {'Content-Type': 'application/json', 'Authorization': 'Bearer ' + mltoken}\n\nresponse_get = requests.get(endpoint_published_models, headers=header)\n\nprint response_get\nprint response_get.text", 
            "metadata": {}, 
            "outputs": [
                {
                    "output_type": "stream", 
                    "text": "<Response [200]>\n{\"count\":1,\"resources\":[{\"metadata\":{\"guid\":\"99087b39-36ca-431d-9008-42a236adb432\",\"url\":\"https://ibm-watson-ml.mybluemix.net/v3/wml_instances/360c510b-012c-4793-ae3f-063410081c3e/published_models/99087b39-36ca-431d-9008-42a236adb432\",\"created_at\":\"2017-09-06T13:28:28.585Z\",\"modified_at\":\"2017-09-06T13:28:28.717Z\"},\"entity\":{\"runtime_environment\":\"spark-2.0\",\"author\":{},\"name\":\"Product Line Prediction\",\"label_col\":\"PRODUCT_LINE\",\"training_data_schema\":{\"fields\":[{\"metadata\":{},\"type\":\"string\",\"name\":\"PRODUCT_LINE\",\"nullable\":true},{\"metadata\":{},\"type\":\"string\",\"name\":\"GENDER\",\"nullable\":true},{\"metadata\":{},\"type\":\"integer\",\"name\":\"AGE\",\"nullable\":true},{\"metadata\":{},\"type\":\"string\",\"name\":\"MARITAL_STATUS\",\"nullable\":true},{\"metadata\":{},\"type\":\"string\",\"name\":\"PROFESSION\",\"nullable\":true}],\"type\":\"struct\"},\"latest_version\":{\"url\":\"https://ibm-watson-ml.mybluemix.net/v2/artifacts/models/99087b39-36ca-431d-9008-42a236adb432/versions/2723400a-6a3a-4603-80f5-4035134b3fdf\",\"guid\":\"2723400a-6a3a-4603-80f5-4035134b3fdf\",\"created_at\":\"2017-09-06T13:28:28.717Z\"},\"model_type\":\"sparkml-model-2.0\",\"deployments\":{\"count\":0,\"url\":\"https://ibm-watson-ml.mybluemix.net/v3/wml_instances/360c510b-012c-4793-ae3f-063410081c3e/published_models/99087b39-36ca-431d-9008-42a236adb432/deployments\"},\"input_data_schema\":{\"fields\":[{\"metadata\":{},\"type\":\"string\",\"name\":\"GENDER\",\"nullable\":true},{\"metadata\":{},\"type\":\"integer\",\"name\":\"AGE\",\"nullable\":true},{\"metadata\":{},\"type\":\"string\",\"name\":\"MARITAL_STATUS\",\"nullable\":true},{\"metadata\":{},\"type\":\"string\",\"name\":\"PROFESSION\",\"nullable\":true}],\"type\":\"struct\"}}}]}\n", 
                    "name": "stdout"
                }
            ], 
            "execution_count": 29
        }, 
        {
            "cell_type": "markdown", 
            "source": "#### Get published model deployment url", 
            "metadata": {}
        }, 
        {
            "cell_type": "code", 
            "source": "[endpoint_deployments] = [x.get('entity').get('deployments').get('url') for x in json.loads(response_get.text).get('resources') if x.get('metadata').get('guid') == saved_model.uid]\n\nprint endpoint_deployments", 
            "metadata": {}, 
            "outputs": [
                {
                    "output_type": "stream", 
                    "text": "https://ibm-watson-ml.mybluemix.net/v3/wml_instances/360c510b-012c-4793-ae3f-063410081c3e/published_models/99087b39-36ca-431d-9008-42a236adb432/deployments\n", 
                    "name": "stdout"
                }
            ], 
            "execution_count": 30
        }, 
        {
            "cell_type": "markdown", 
            "source": "#### Create online deployment for published model", 
            "metadata": {}
        }, 
        {
            "cell_type": "code", 
            "source": "payload_online = {\"name\": \"Product Line Prediction\", \"description\": \"My Cool Deployment\", \"type\": \"online\"}\nresponse_online = requests.post(endpoint_deployments, json=payload_online, headers=header)\n\nprint response_online\nprint response_online.text", 
            "metadata": {}, 
            "outputs": [
                {
                    "output_type": "stream", 
                    "text": "<Response [201]>\n{\"metadata\":{\"guid\":\"c8ad0991-a4b2-45ec-8555-019edfcaff89\",\"url\":\"https://ibm-watson-ml.mybluemix.net/v3/wml_instances/360c510b-012c-4793-ae3f-063410081c3e/published_models/99087b39-36ca-431d-9008-42a236adb432/deployments/c8ad0991-a4b2-45ec-8555-019edfcaff89\",\"created_at\":\"2017-09-06T13:34:14.366Z\",\"modified_at\":\"2017-09-06T13:34:16.060Z\"},\"entity\":{\"runtime_environment\":\"spark-2.0\",\"name\":\"Product Line Prediction\",\"scoring_url\":\"https://ibm-watson-ml.mybluemix.net/v3/wml_instances/360c510b-012c-4793-ae3f-063410081c3e/published_models/99087b39-36ca-431d-9008-42a236adb432/deployments/c8ad0991-a4b2-45ec-8555-019edfcaff89/online\",\"description\":\"My Cool Deployment\",\"published_model\":{\"author\":{},\"name\":\"Product Line Prediction\",\"url\":\"https://ibm-watson-ml.mybluemix.net/v3/wml_instances/360c510b-012c-4793-ae3f-063410081c3e/published_models/99087b39-36ca-431d-9008-42a236adb432\",\"guid\":\"99087b39-36ca-431d-9008-42a236adb432\",\"created_at\":\"2017-09-06T13:34:14.332Z\"},\"model_type\":\"sparkml-model-2.0\",\"status\":\"INITIALIZING\",\"type\":\"online\",\"deployed_version\":{\"url\":\"https://ibm-watson-ml.mybluemix.net/v2/artifacts/models/99087b39-36ca-431d-9008-42a236adb432/versions/2723400a-6a3a-4603-80f5-4035134b3fdf\",\"guid\":\"2723400a-6a3a-4603-80f5-4035134b3fdf\",\"created_at\":\"2017-09-06T13:28:28.717Z\"}}}\n", 
                    "name": "stdout"
                }
            ], 
            "execution_count": 31
        }, 
        {
            "cell_type": "code", 
            "source": "scoring_url = json.loads(response_online.text).get('entity').get('scoring_url')\nprint scoring_url", 
            "metadata": {}, 
            "outputs": [
                {
                    "output_type": "stream", 
                    "text": "https://ibm-watson-ml.mybluemix.net/v3/wml_instances/360c510b-012c-4793-ae3f-063410081c3e/published_models/99087b39-36ca-431d-9008-42a236adb432/deployments/c8ad0991-a4b2-45ec-8555-019edfcaff89/online\n", 
                    "name": "stdout"
                }
            ], 
            "execution_count": 32
        }, 
        {
            "cell_type": "markdown", 
            "source": "Now, you can send (POST) new scoring records (new data) for which you would like to get predictions. To do that, execute the following sample code: ", 
            "metadata": {}
        }, 
        {
            "cell_type": "code", 
            "source": "payload_scoring = {\"fields\": [\"GENDER\",\"AGE\",\"MARITAL_STATUS\",\"PROFESSION\"],\"values\": [[\"M\",23,\"Single\",\"Student\"],[\"M\",55,\"Single\",\"Executive\"]]}\nresponse_scoring = requests.post(scoring_url, json=payload_scoring, headers=header)\n\nprint response_scoring.text", 
            "metadata": {}, 
            "outputs": [
                {
                    "output_type": "stream", 
                    "text": "{\n  \"fields\": [\"GENDER\", \"AGE\", \"MARITAL_STATUS\", \"PROFESSION\", \"PRODUCT_LINE\", \"label\", \"PROFESSION_IX\", \"GENDER_IX\", \"MARITAL_STATUS_IX\", \"features\", \"rawPrediction\", \"probability\", \"prediction\", \"predictedLabel\"],\n  \"values\": [[\"M\", 23, \"Single\", \"Student\", \"Camping Equipment\", 0.0, 6.0, 0.0, 1.0, [0.0, 23.0, 1.0, 6.0], [5.600716147152702, 6.482458372136143, 6.048004170730676, 0.20929155492307386, 1.6595297550574055], [0.2800358073576351, 0.32412291860680714, 0.3024002085365338, 0.010464577746153694, 0.08297648775287028], 1.0, \"Personal Accessories\"], [\"M\", 55, \"Single\", \"Executive\", \"Camping Equipment\", 0.0, 3.0, 0.0, 1.0, [0.0, 55.0, 1.0, 3.0], [6.227653744886563, 4.325198862164969, 8.031953760146816, 1.2319759269281225, 0.1832177058735289], [0.3113826872443282, 0.2162599431082485, 0.40159768800734086, 0.06159879634640614, 0.009160885293676447], 2.0, \"Mountaineering Equipment\"]]\n}\n", 
                    "name": "stdout"
                }
            ], 
            "execution_count": 33
        }, 
        {
            "cell_type": "markdown", 
            "source": "As we can see we predict that a 23-year-old male student is interested in personal accessories (predictedLabel: Personal Accessories, prediction: 1.0). We can also see that single, 55 years old man is interested in mountaineering equipment.", 
            "metadata": {}
        }, 
        {
            "cell_type": "markdown", 
            "source": "<a id=\"summary\"></a>\n## 7. Summary and next steps     ", 
            "metadata": {
                "collapsed": true
            }
        }, 
        {
            "cell_type": "markdown", 
            "source": " You successfully completed this notebook! You learned how to use Apache Spark machine learning as well as Watson Machine Learning for model creation and deployment. Check out our _[Online Documentation](https://console.ng.bluemix.net/docs/services/PredictiveModeling/pm_service_api_spark.html)_ for more samples, tutorials, documentation, how-tos, and blog posts. ", 
            "metadata": {
                "collapsed": true
            }
        }, 
        {
            "cell_type": "markdown", 
            "source": "### Authors\n\n**Lukasz Cmielowski**, PhD, is a Automation Architect and Data Scientist in IBM with a track record of developing enterprise-level applications that substantially increases clients' ability to turn data into actionable knowledge.", 
            "metadata": {}
        }, 
        {
            "cell_type": "markdown", 
            "source": "Copyright \u00a9 2017 IBM. This notebook and its source code are released under the terms of the MIT License.", 
            "metadata": {}
        }
    ], 
    "nbformat": 4, 
    "metadata": {
        "kernelspec": {
            "language": "python", 
            "name": "python2-spark20", 
            "display_name": "Python 2 with Spark 2.0"
        }, 
        "language_info": {
            "file_extension": ".py", 
            "codemirror_mode": {
                "version": 2, 
                "name": "ipython"
            }, 
            "pygments_lexer": "ipython2", 
            "version": "2.7.11", 
            "nbconvert_exporter": "python", 
            "mimetype": "text/x-python", 
            "name": "python"
        }
    }, 
    "nbformat_minor": 1
}